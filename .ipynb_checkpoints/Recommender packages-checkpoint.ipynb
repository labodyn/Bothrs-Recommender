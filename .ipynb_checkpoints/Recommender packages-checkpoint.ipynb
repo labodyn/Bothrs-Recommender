{
 "cells": [
  {
   "cell_type": "code",
   "execution_count": 21,
   "metadata": {
    "collapsed": true
   },
   "outputs": [],
   "source": [
    "import pandas as pd\n",
    "from surprise import SVD\n",
    "from surprise import dataset\n",
    "from surprise import Reader\n",
    "from surprise import evaluate, print_perf\n",
    "from surprise.prediction_algorithms.knns import KNNBasic"
   ]
  },
  {
   "cell_type": "code",
   "execution_count": 35,
   "metadata": {},
   "outputs": [],
   "source": [
    "#df = pd.read_csv('Rating-Grid view.csv')\n",
    "\n",
    "\n",
    "\n",
    "# DF creation. Replace this by your own df\n",
    "ratings_dict = {'UserID':    [1, 1, 2, 2, 3, 3, 4, 4],\n",
    "                'MessageId': [1, 2, 1, 2, 1, 2, 1, 2],\n",
    "                'Rating':    [0, 10, 0, 10, 10, 0, 10, 0]}\n",
    "df = pd.DataFrame.from_dict(ratings_dict)\n",
    "\n",
    "\n",
    "# You'll need to create a dummy reader\n",
    "reader = Reader(line_format='user item rating', rating_scale=(1, 5))\n",
    "\n",
    "# Also, a dummy Dataset class\n",
    "class MyDataset(dataset.DatasetAutoFolds):\n",
    "\n",
    "    def __init__(self, df, reader):\n",
    "\n",
    "        self.raw_ratings = [(uid, iid, r, None) for (uid, iid, r) in\n",
    "                            zip(df['UserID'], df['MessageId'], df['Rating'])]\n",
    "        self.reader=reader\n",
    "\n",
    "data = MyDataset(df, reader)"
   ]
  },
  {
   "cell_type": "code",
   "execution_count": 36,
   "metadata": {},
   "outputs": [
    {
     "name": "stdout",
     "output_type": "stream",
     "text": [
      "Evaluating RMSE, MAE of algorithm KNNBasic.\n",
      "\n",
      "------------\n",
      "Fold 1\n",
      "Computing the msd similarity matrix...\n",
      "Done computing similarity matrix.\n",
      "RMSE: 7.2801\n",
      "MAE:  7.0000\n",
      "------------\n",
      "Fold 2\n",
      "Computing the msd similarity matrix...\n",
      "Done computing similarity matrix.\n",
      "RMSE: 5.0000\n",
      "MAE:  5.0000\n",
      "------------\n",
      "Fold 3\n",
      "Computing the msd similarity matrix...\n",
      "Done computing similarity matrix.\n",
      "RMSE: 5.0000\n",
      "MAE:  5.0000\n",
      "------------\n",
      "Fold 4\n",
      "Computing the msd similarity matrix...\n",
      "Done computing similarity matrix.\n",
      "RMSE: 1.0000\n",
      "MAE:  1.0000\n",
      "------------\n",
      "------------\n",
      "Mean RMSE: 4.5700\n",
      "Mean MAE : 4.5000\n",
      "------------\n",
      "------------\n",
      "        Fold 1  Fold 2  Fold 3  Fold 4  Mean    \n",
      "MAE     7.0000  5.0000  5.0000  1.0000  4.5000  \n",
      "RMSE    7.2801  5.0000  5.0000  1.0000  4.5700  \n"
     ]
    }
   ],
   "source": [
    "# You should now be able to use the data object normally.\n",
    "data.split(n_folds=4)\n",
    "algo = KNNBasic(n=1)\n",
    "perf = evaluate(algo, data, measures=['RMSE', 'MAE'])\n",
    "print_perf(perf)"
   ]
  },
  {
   "cell_type": "code",
   "execution_count": null,
   "metadata": {
    "collapsed": true
   },
   "outputs": [],
   "source": []
  }
 ],
 "metadata": {
  "kernelspec": {
   "display_name": "Python 3",
   "language": "python",
   "name": "python3"
  },
  "language_info": {
   "codemirror_mode": {
    "name": "ipython",
    "version": 3
   },
   "file_extension": ".py",
   "mimetype": "text/x-python",
   "name": "python",
   "nbconvert_exporter": "python",
   "pygments_lexer": "ipython3",
   "version": "3.5.2"
  }
 },
 "nbformat": 4,
 "nbformat_minor": 2
}
